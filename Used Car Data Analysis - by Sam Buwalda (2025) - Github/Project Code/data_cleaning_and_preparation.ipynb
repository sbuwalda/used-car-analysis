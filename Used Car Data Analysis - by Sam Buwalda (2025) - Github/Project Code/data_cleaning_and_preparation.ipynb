{
 "cells": [
  {
   "cell_type": "markdown",
   "id": "0a2c0409-e521-42dd-a368-abda3f3f36b2",
   "metadata": {},
   "source": [
    "# 🚗 Used Car Data Analysis Project\n",
    "#### _by Sam Buwalda | Portfolio Project, 2025_"
   ]
  },
  {
   "cell_type": "markdown",
   "id": "71543e9a-f807-4e28-9706-c8ab8424d895",
   "metadata": {},
   "source": [
    "# Used Car Data Analysis Project  \n",
    "*By Sam Buwalda — Portfolio Project, 2025*\n",
    "\n",
    "This notebook covers the **data loading, inspection, and cleaning steps** for a dataset of 426,880 used car listings scraped from Craigslist. It is part of a larger project that analyzes pricing trends, brand depreciation, and feature importance based on realistic business questions.\n",
    "\n",
    "## Dataset Source\n",
    "\n",
    "- Kaggle: Used Cars Dataset\n",
    "- 426,880 rows before cleaning\n",
    "- 26 columns before cleaning\n",
    "\n",
    "## Business Questions\n",
    "\n",
    "1. Descriptive: What are the most common categorical traits of cars priced above $20,000?  \n",
    "2. Diagnostic: How does car age affect price?  \n",
    "3. Descriptive + Diagnostic: Which car brands retain their value best over time?  \n",
    "4. Diagnostic: How does fuel type and transmission affect car price?  \n",
    "5. Diagnostic + Predictive: What factors most influence the price of a used car (based on the available data)?\n",
    "\n",
    "## Cleaning Objectives\n",
    "\n",
    "The cleaning decisions are guided by the analytical goals of the full project, which includes questions about price drivers, brand depreciation, and feature-value relationships.\n",
    "\n",
    "- Dropping irrelevant features (based on the business questions) or high-missing-value columns\n",
    "- Filtering out unrealistic prices and odometer readings\n",
    "- Removing duplicate rows\n",
    "- Dropping rows with missing values in key columns (like year, manufacturer, transmission, etc.)\n",
    "- Keeping only features relevant to the business questions"
   ]
  },
  {
   "cell_type": "markdown",
   "id": "c25a65a9-685a-4be9-919b-c8a6f1aef7a4",
   "metadata": {},
   "source": [
    "---"
   ]
  },
  {
   "cell_type": "markdown",
   "id": "59c12b4b-dec1-4e37-88ba-9aa9de6a9e9d",
   "metadata": {},
   "source": [
    "## 📦💾 Importing and loading CSV file"
   ]
  },
  {
   "cell_type": "code",
   "execution_count": 1,
   "id": "c37a4621-c1a6-4fcd-9beb-4eb487bf807c",
   "metadata": {
    "scrolled": true
   },
   "outputs": [
    {
     "name": "stdout",
     "output_type": "stream",
     "text": [
      "<class 'pandas.core.frame.DataFrame'>\n",
      "RangeIndex: 426880 entries, 0 to 426879\n",
      "Data columns (total 26 columns):\n",
      " #   Column        Non-Null Count   Dtype  \n",
      "---  ------        --------------   -----  \n",
      " 0   id            426880 non-null  int64  \n",
      " 1   url           426880 non-null  object \n",
      " 2   region        426880 non-null  object \n",
      " 3   region_url    426880 non-null  object \n",
      " 4   price         426880 non-null  int64  \n",
      " 5   year          425675 non-null  float64\n",
      " 6   manufacturer  409234 non-null  object \n",
      " 7   model         421603 non-null  object \n",
      " 8   condition     252776 non-null  object \n",
      " 9   cylinders     249202 non-null  object \n",
      " 10  fuel          423867 non-null  object \n",
      " 11  odometer      422480 non-null  float64\n",
      " 12  title_status  418638 non-null  object \n",
      " 13  transmission  424324 non-null  object \n",
      " 14  VIN           265838 non-null  object \n",
      " 15  drive         296313 non-null  object \n",
      " 16  size          120519 non-null  object \n",
      " 17  type          334022 non-null  object \n",
      " 18  paint_color   296677 non-null  object \n",
      " 19  image_url     426812 non-null  object \n",
      " 20  description   426810 non-null  object \n",
      " 21  county        0 non-null       float64\n",
      " 22  state         426880 non-null  object \n",
      " 23  lat           420331 non-null  float64\n",
      " 24  long          420331 non-null  float64\n",
      " 25  posting_date  426812 non-null  object \n",
      "dtypes: float64(5), int64(2), object(19)\n",
      "memory usage: 84.7+ MB\n"
     ]
    }
   ],
   "source": [
    "# Import pandas for data loading, inspection, and cleaning\n",
    "import pandas as pd\n",
    "\n",
    "# Load the CSV file and load into DataFrame 'df'\n",
    "\n",
    "df = pd.read_csv(\"../Data Files/vehicles.csv\", low_memory=False)\n",
    "\n",
    "# Display general information about the dataset: column names, data types, non-null counts, and memory usage.\n",
    "\n",
    "df.info()"
   ]
  },
  {
   "cell_type": "markdown",
   "id": "90a2acdf-0683-41a3-b84e-f4fca7445bfc",
   "metadata": {},
   "source": [
    "## 🧼 Data Cleaning & Preparation\n",
    "\n",
    "In this section, we clean the dataset to prepare it for analysis. Steps include removing duplicates, handling missing values, filtering outliers, and dropping irrelevant columns."
   ]
  },
  {
   "cell_type": "markdown",
   "id": "10502fe4-a87b-40d2-ad47-209f75e7292d",
   "metadata": {},
   "source": [
    "### 🔎 Initial Inspection"
   ]
  },
  {
   "cell_type": "code",
   "execution_count": 2,
   "id": "d6516c66-231b-4b50-ad93-a450750ef92a",
   "metadata": {
    "scrolled": true
   },
   "outputs": [
    {
     "data": {
      "text/plain": [
       "(426880, 26)"
      ]
     },
     "execution_count": 2,
     "metadata": {},
     "output_type": "execute_result"
    }
   ],
   "source": [
    "# Show the number of rows and columns in the dataset to understand its overall size.\n",
    "\n",
    "df.shape"
   ]
  },
  {
   "cell_type": "code",
   "execution_count": 3,
   "id": "9c4f354c-f3a3-4272-9277-84eadfd3f282",
   "metadata": {
    "scrolled": true
   },
   "outputs": [
    {
     "data": {
      "text/html": [
       "<div>\n",
       "<style scoped>\n",
       "    .dataframe tbody tr th:only-of-type {\n",
       "        vertical-align: middle;\n",
       "    }\n",
       "\n",
       "    .dataframe tbody tr th {\n",
       "        vertical-align: top;\n",
       "    }\n",
       "\n",
       "    .dataframe thead th {\n",
       "        text-align: right;\n",
       "    }\n",
       "</style>\n",
       "<table border=\"1\" class=\"dataframe\">\n",
       "  <thead>\n",
       "    <tr style=\"text-align: right;\">\n",
       "      <th></th>\n",
       "      <th>id</th>\n",
       "      <th>url</th>\n",
       "      <th>region</th>\n",
       "      <th>region_url</th>\n",
       "      <th>price</th>\n",
       "      <th>year</th>\n",
       "      <th>manufacturer</th>\n",
       "      <th>model</th>\n",
       "      <th>condition</th>\n",
       "      <th>cylinders</th>\n",
       "      <th>...</th>\n",
       "      <th>size</th>\n",
       "      <th>type</th>\n",
       "      <th>paint_color</th>\n",
       "      <th>image_url</th>\n",
       "      <th>description</th>\n",
       "      <th>county</th>\n",
       "      <th>state</th>\n",
       "      <th>lat</th>\n",
       "      <th>long</th>\n",
       "      <th>posting_date</th>\n",
       "    </tr>\n",
       "  </thead>\n",
       "  <tbody>\n",
       "    <tr>\n",
       "      <th>0</th>\n",
       "      <td>7222695916</td>\n",
       "      <td>https://prescott.craigslist.org/cto/d/prescott...</td>\n",
       "      <td>prescott</td>\n",
       "      <td>https://prescott.craigslist.org</td>\n",
       "      <td>6000</td>\n",
       "      <td>NaN</td>\n",
       "      <td>NaN</td>\n",
       "      <td>NaN</td>\n",
       "      <td>NaN</td>\n",
       "      <td>NaN</td>\n",
       "      <td>...</td>\n",
       "      <td>NaN</td>\n",
       "      <td>NaN</td>\n",
       "      <td>NaN</td>\n",
       "      <td>NaN</td>\n",
       "      <td>NaN</td>\n",
       "      <td>NaN</td>\n",
       "      <td>az</td>\n",
       "      <td>NaN</td>\n",
       "      <td>NaN</td>\n",
       "      <td>NaN</td>\n",
       "    </tr>\n",
       "    <tr>\n",
       "      <th>1</th>\n",
       "      <td>7218891961</td>\n",
       "      <td>https://fayar.craigslist.org/ctd/d/bentonville...</td>\n",
       "      <td>fayetteville</td>\n",
       "      <td>https://fayar.craigslist.org</td>\n",
       "      <td>11900</td>\n",
       "      <td>NaN</td>\n",
       "      <td>NaN</td>\n",
       "      <td>NaN</td>\n",
       "      <td>NaN</td>\n",
       "      <td>NaN</td>\n",
       "      <td>...</td>\n",
       "      <td>NaN</td>\n",
       "      <td>NaN</td>\n",
       "      <td>NaN</td>\n",
       "      <td>NaN</td>\n",
       "      <td>NaN</td>\n",
       "      <td>NaN</td>\n",
       "      <td>ar</td>\n",
       "      <td>NaN</td>\n",
       "      <td>NaN</td>\n",
       "      <td>NaN</td>\n",
       "    </tr>\n",
       "    <tr>\n",
       "      <th>2</th>\n",
       "      <td>7221797935</td>\n",
       "      <td>https://keys.craigslist.org/cto/d/summerland-k...</td>\n",
       "      <td>florida keys</td>\n",
       "      <td>https://keys.craigslist.org</td>\n",
       "      <td>21000</td>\n",
       "      <td>NaN</td>\n",
       "      <td>NaN</td>\n",
       "      <td>NaN</td>\n",
       "      <td>NaN</td>\n",
       "      <td>NaN</td>\n",
       "      <td>...</td>\n",
       "      <td>NaN</td>\n",
       "      <td>NaN</td>\n",
       "      <td>NaN</td>\n",
       "      <td>NaN</td>\n",
       "      <td>NaN</td>\n",
       "      <td>NaN</td>\n",
       "      <td>fl</td>\n",
       "      <td>NaN</td>\n",
       "      <td>NaN</td>\n",
       "      <td>NaN</td>\n",
       "    </tr>\n",
       "    <tr>\n",
       "      <th>3</th>\n",
       "      <td>7222270760</td>\n",
       "      <td>https://worcester.craigslist.org/cto/d/west-br...</td>\n",
       "      <td>worcester / central MA</td>\n",
       "      <td>https://worcester.craigslist.org</td>\n",
       "      <td>1500</td>\n",
       "      <td>NaN</td>\n",
       "      <td>NaN</td>\n",
       "      <td>NaN</td>\n",
       "      <td>NaN</td>\n",
       "      <td>NaN</td>\n",
       "      <td>...</td>\n",
       "      <td>NaN</td>\n",
       "      <td>NaN</td>\n",
       "      <td>NaN</td>\n",
       "      <td>NaN</td>\n",
       "      <td>NaN</td>\n",
       "      <td>NaN</td>\n",
       "      <td>ma</td>\n",
       "      <td>NaN</td>\n",
       "      <td>NaN</td>\n",
       "      <td>NaN</td>\n",
       "    </tr>\n",
       "    <tr>\n",
       "      <th>4</th>\n",
       "      <td>7210384030</td>\n",
       "      <td>https://greensboro.craigslist.org/cto/d/trinit...</td>\n",
       "      <td>greensboro</td>\n",
       "      <td>https://greensboro.craigslist.org</td>\n",
       "      <td>4900</td>\n",
       "      <td>NaN</td>\n",
       "      <td>NaN</td>\n",
       "      <td>NaN</td>\n",
       "      <td>NaN</td>\n",
       "      <td>NaN</td>\n",
       "      <td>...</td>\n",
       "      <td>NaN</td>\n",
       "      <td>NaN</td>\n",
       "      <td>NaN</td>\n",
       "      <td>NaN</td>\n",
       "      <td>NaN</td>\n",
       "      <td>NaN</td>\n",
       "      <td>nc</td>\n",
       "      <td>NaN</td>\n",
       "      <td>NaN</td>\n",
       "      <td>NaN</td>\n",
       "    </tr>\n",
       "  </tbody>\n",
       "</table>\n",
       "<p>5 rows × 26 columns</p>\n",
       "</div>"
      ],
      "text/plain": [
       "           id                                                url  \\\n",
       "0  7222695916  https://prescott.craigslist.org/cto/d/prescott...   \n",
       "1  7218891961  https://fayar.craigslist.org/ctd/d/bentonville...   \n",
       "2  7221797935  https://keys.craigslist.org/cto/d/summerland-k...   \n",
       "3  7222270760  https://worcester.craigslist.org/cto/d/west-br...   \n",
       "4  7210384030  https://greensboro.craigslist.org/cto/d/trinit...   \n",
       "\n",
       "                   region                         region_url  price  year  \\\n",
       "0                prescott    https://prescott.craigslist.org   6000   NaN   \n",
       "1            fayetteville       https://fayar.craigslist.org  11900   NaN   \n",
       "2            florida keys        https://keys.craigslist.org  21000   NaN   \n",
       "3  worcester / central MA   https://worcester.craigslist.org   1500   NaN   \n",
       "4              greensboro  https://greensboro.craigslist.org   4900   NaN   \n",
       "\n",
       "  manufacturer model condition cylinders  ... size  type paint_color  \\\n",
       "0          NaN   NaN       NaN       NaN  ...  NaN   NaN         NaN   \n",
       "1          NaN   NaN       NaN       NaN  ...  NaN   NaN         NaN   \n",
       "2          NaN   NaN       NaN       NaN  ...  NaN   NaN         NaN   \n",
       "3          NaN   NaN       NaN       NaN  ...  NaN   NaN         NaN   \n",
       "4          NaN   NaN       NaN       NaN  ...  NaN   NaN         NaN   \n",
       "\n",
       "  image_url description county state lat long posting_date  \n",
       "0       NaN         NaN    NaN    az NaN  NaN          NaN  \n",
       "1       NaN         NaN    NaN    ar NaN  NaN          NaN  \n",
       "2       NaN         NaN    NaN    fl NaN  NaN          NaN  \n",
       "3       NaN         NaN    NaN    ma NaN  NaN          NaN  \n",
       "4       NaN         NaN    NaN    nc NaN  NaN          NaN  \n",
       "\n",
       "[5 rows x 26 columns]"
      ]
     },
     "execution_count": 3,
     "metadata": {},
     "output_type": "execute_result"
    }
   ],
   "source": [
    "# Display the first 5 rows to visually inspect the structure and content of the dataset.\n",
    "# This helps confirm that the file was loaded correctly and gives an early look at the values.\n",
    "\n",
    "df.head()"
   ]
  },
  {
   "cell_type": "code",
   "execution_count": 4,
   "id": "efd42a20-3601-47e7-8eb5-163165c0989e",
   "metadata": {
    "scrolled": true
   },
   "outputs": [
    {
     "data": {
      "text/plain": [
       "id                   0\n",
       "url                  0\n",
       "region               0\n",
       "region_url           0\n",
       "price                0\n",
       "year              1205\n",
       "manufacturer     17646\n",
       "model             5277\n",
       "condition       174104\n",
       "cylinders       177678\n",
       "fuel              3013\n",
       "odometer          4400\n",
       "title_status      8242\n",
       "transmission      2556\n",
       "VIN             161042\n",
       "drive           130567\n",
       "size            306361\n",
       "type             92858\n",
       "paint_color     130203\n",
       "image_url           68\n",
       "description         70\n",
       "county          426880\n",
       "state                0\n",
       "lat               6549\n",
       "long              6549\n",
       "posting_date        68\n",
       "dtype: int64"
      ]
     },
     "execution_count": 4,
     "metadata": {},
     "output_type": "execute_result"
    }
   ],
   "source": [
    "# Identify the number of missing values in each column to assess data quality and decide on cleaning strategy.\n",
    "\n",
    "df.isnull().sum()"
   ]
  },
  {
   "cell_type": "code",
   "execution_count": 5,
   "id": "6e27a032-258d-46ec-ad22-c3dfdeaa8869",
   "metadata": {
    "scrolled": true
   },
   "outputs": [
    {
     "data": {
      "text/html": [
       "<div>\n",
       "<style scoped>\n",
       "    .dataframe tbody tr th:only-of-type {\n",
       "        vertical-align: middle;\n",
       "    }\n",
       "\n",
       "    .dataframe tbody tr th {\n",
       "        vertical-align: top;\n",
       "    }\n",
       "\n",
       "    .dataframe thead th {\n",
       "        text-align: right;\n",
       "    }\n",
       "</style>\n",
       "<table border=\"1\" class=\"dataframe\">\n",
       "  <thead>\n",
       "    <tr style=\"text-align: right;\">\n",
       "      <th></th>\n",
       "      <th>id</th>\n",
       "      <th>price</th>\n",
       "      <th>year</th>\n",
       "      <th>odometer</th>\n",
       "      <th>county</th>\n",
       "      <th>lat</th>\n",
       "      <th>long</th>\n",
       "    </tr>\n",
       "  </thead>\n",
       "  <tbody>\n",
       "    <tr>\n",
       "      <th>count</th>\n",
       "      <td>4.268800e+05</td>\n",
       "      <td>4.268800e+05</td>\n",
       "      <td>425675.000000</td>\n",
       "      <td>4.224800e+05</td>\n",
       "      <td>0.0</td>\n",
       "      <td>420331.000000</td>\n",
       "      <td>420331.000000</td>\n",
       "    </tr>\n",
       "    <tr>\n",
       "      <th>mean</th>\n",
       "      <td>7.311487e+09</td>\n",
       "      <td>7.519903e+04</td>\n",
       "      <td>2011.235191</td>\n",
       "      <td>9.804333e+04</td>\n",
       "      <td>NaN</td>\n",
       "      <td>38.493940</td>\n",
       "      <td>-94.748599</td>\n",
       "    </tr>\n",
       "    <tr>\n",
       "      <th>std</th>\n",
       "      <td>4.473170e+06</td>\n",
       "      <td>1.218228e+07</td>\n",
       "      <td>9.452120</td>\n",
       "      <td>2.138815e+05</td>\n",
       "      <td>NaN</td>\n",
       "      <td>5.841533</td>\n",
       "      <td>18.365462</td>\n",
       "    </tr>\n",
       "    <tr>\n",
       "      <th>min</th>\n",
       "      <td>7.207408e+09</td>\n",
       "      <td>0.000000e+00</td>\n",
       "      <td>1900.000000</td>\n",
       "      <td>0.000000e+00</td>\n",
       "      <td>NaN</td>\n",
       "      <td>-84.122245</td>\n",
       "      <td>-159.827728</td>\n",
       "    </tr>\n",
       "    <tr>\n",
       "      <th>25%</th>\n",
       "      <td>7.308143e+09</td>\n",
       "      <td>5.900000e+03</td>\n",
       "      <td>2008.000000</td>\n",
       "      <td>3.770400e+04</td>\n",
       "      <td>NaN</td>\n",
       "      <td>34.601900</td>\n",
       "      <td>-111.939847</td>\n",
       "    </tr>\n",
       "    <tr>\n",
       "      <th>50%</th>\n",
       "      <td>7.312621e+09</td>\n",
       "      <td>1.395000e+04</td>\n",
       "      <td>2013.000000</td>\n",
       "      <td>8.554800e+04</td>\n",
       "      <td>NaN</td>\n",
       "      <td>39.150100</td>\n",
       "      <td>-88.432600</td>\n",
       "    </tr>\n",
       "    <tr>\n",
       "      <th>75%</th>\n",
       "      <td>7.315254e+09</td>\n",
       "      <td>2.648575e+04</td>\n",
       "      <td>2017.000000</td>\n",
       "      <td>1.335425e+05</td>\n",
       "      <td>NaN</td>\n",
       "      <td>42.398900</td>\n",
       "      <td>-80.832039</td>\n",
       "    </tr>\n",
       "    <tr>\n",
       "      <th>max</th>\n",
       "      <td>7.317101e+09</td>\n",
       "      <td>3.736929e+09</td>\n",
       "      <td>2022.000000</td>\n",
       "      <td>1.000000e+07</td>\n",
       "      <td>NaN</td>\n",
       "      <td>82.390818</td>\n",
       "      <td>173.885502</td>\n",
       "    </tr>\n",
       "  </tbody>\n",
       "</table>\n",
       "</div>"
      ],
      "text/plain": [
       "                 id         price           year      odometer  county  \\\n",
       "count  4.268800e+05  4.268800e+05  425675.000000  4.224800e+05     0.0   \n",
       "mean   7.311487e+09  7.519903e+04    2011.235191  9.804333e+04     NaN   \n",
       "std    4.473170e+06  1.218228e+07       9.452120  2.138815e+05     NaN   \n",
       "min    7.207408e+09  0.000000e+00    1900.000000  0.000000e+00     NaN   \n",
       "25%    7.308143e+09  5.900000e+03    2008.000000  3.770400e+04     NaN   \n",
       "50%    7.312621e+09  1.395000e+04    2013.000000  8.554800e+04     NaN   \n",
       "75%    7.315254e+09  2.648575e+04    2017.000000  1.335425e+05     NaN   \n",
       "max    7.317101e+09  3.736929e+09    2022.000000  1.000000e+07     NaN   \n",
       "\n",
       "                 lat           long  \n",
       "count  420331.000000  420331.000000  \n",
       "mean       38.493940     -94.748599  \n",
       "std         5.841533      18.365462  \n",
       "min       -84.122245    -159.827728  \n",
       "25%        34.601900    -111.939847  \n",
       "50%        39.150100     -88.432600  \n",
       "75%        42.398900     -80.832039  \n",
       "max        82.390818     173.885502  "
      ]
     },
     "execution_count": 5,
     "metadata": {},
     "output_type": "execute_result"
    }
   ],
   "source": [
    "# Generate summary statistics for numerical columns to detect potential outliers and understand value distributions.\n",
    "\n",
    "df.describe()"
   ]
  },
  {
   "cell_type": "markdown",
   "id": "dfdde0e4-408b-455e-b557-a5be50e7e96f",
   "metadata": {},
   "source": [
    "### 📉 Remove Duplicates"
   ]
  },
  {
   "cell_type": "code",
   "execution_count": 6,
   "id": "d642aff2-38cf-470d-b72a-a023529a6500",
   "metadata": {
    "scrolled": true
   },
   "outputs": [
    {
     "name": "stdout",
     "output_type": "stream",
     "text": [
      "Number of duplicates: 0\n",
      "New shape: (426880, 26)\n"
     ]
    }
   ],
   "source": [
    "# Check for and remove any duplicate rows to avoid skewing the analysis.\n",
    "\n",
    "print(\"Number of duplicates:\", df.duplicated().sum())\n",
    "df = df.drop_duplicates()\n",
    "\n",
    "# Confirm new shape after dropping\n",
    "\n",
    "print(\"New shape:\", df.shape)"
   ]
  },
  {
   "cell_type": "markdown",
   "id": "9efa092d-c91b-4e5c-a94c-192c822cbcda",
   "metadata": {},
   "source": [
    "### 🚫 Drop (Irrelevant) Columns with High Missing Values"
   ]
  },
  {
   "cell_type": "code",
   "execution_count": 7,
   "id": "e399cb77-16a1-41c0-a879-714c131c95df",
   "metadata": {},
   "outputs": [],
   "source": [
    "# Drop columns that are mostly missing ('county' and 'size')\n",
    "# 'errors=\"ignore\"' ensures the code doesn't break if a column is already dropped earlier.\n",
    "\n",
    "df = df.drop(columns=['county', 'size'], errors='ignore')"
   ]
  },
  {
   "cell_type": "code",
   "execution_count": 8,
   "id": "e56705e3-ede7-460d-a3cd-d08c368d8b23",
   "metadata": {},
   "outputs": [
    {
     "name": "stdout",
     "output_type": "stream",
     "text": [
      "New shape: (426880, 24)\n"
     ]
    }
   ],
   "source": [
    "# Confirm new shape after dropping 'county' column\n",
    "\n",
    "print(\"New shape:\", df.shape)"
   ]
  },
  {
   "cell_type": "code",
   "execution_count": 9,
   "id": "49a301fa-45a4-4da5-8c32-a49d5a7eeaf3",
   "metadata": {},
   "outputs": [],
   "source": [
    "# Drop unnecessary or low-value columns that do not contribute meaningfully to the current analysis goals\n",
    "\n",
    "df = df.drop(columns=[\n",
    "\n",
    "    # 'url' and 'region_url' are only useful for linking externally to the original listings;\n",
    "    # they have no analytical value for understanding vehicle pricing or features.\n",
    "    'url',\n",
    "    'region_url',\n",
    "\n",
    "    # 'image_url' is purely visual and not relevant for data-driven analysis.\n",
    "    'image_url',\n",
    "\n",
    "    # 'VIN' is a unique identifier per vehicle. It is not informative for analysis unless checking for duplicates,\n",
    "    # which we've already handled. It adds no predictive or explanatory power.\n",
    "    'VIN',\n",
    "\n",
    "    # 'condition' is around 33% missing and subjective in nature (e.g., “good” vs “like new”).\n",
    "    # Removing it avoids potential inconsistencies and row loss.\n",
    "    'condition',\n",
    "\n",
    "    # 'cylinders' is missing in ~36% of the data. Including it would require dropping over a third of the dataset.\n",
    "    # It’s not part of our final questions, so we drop it to retain data integrity.\n",
    "    'cylinders',\n",
    "\n",
    "    # 'drive' (e.g., AWD, FWD, RWD) is missing in ~30% of the data. While it might influence price in certain use cases,\n",
    "    # it is not part of our business questions and is excluded to preserve row count and clarity.\n",
    "    'drive',\n",
    "\n",
    "    # 'paint_color' is missing in ~28% of rows and is a mostly aesthetic feature.\n",
    "    # Since our goal is to analyze core pricing factors (like year, mileage, brand), it’s excluded.\n",
    "    'paint_color'\n",
    "\n",
    "], errors='ignore')  # 'errors=ignore' ensures no crash if a column was already removed earlier"
   ]
  },
  {
   "cell_type": "code",
   "execution_count": 10,
   "id": "efbb1584-86e4-4d67-9b96-243e499b8865",
   "metadata": {
    "scrolled": true
   },
   "outputs": [
    {
     "name": "stdout",
     "output_type": "stream",
     "text": [
      "✅ Remaining columns in the DataFrame:\n",
      "['id', 'region', 'price', 'year', 'manufacturer', 'model', 'fuel', 'odometer', 'title_status', 'transmission', 'type', 'description', 'state', 'lat', 'long', 'posting_date']\n"
     ]
    }
   ],
   "source": [
    "# Check current columns to confirm unnecessary ones were successfully dropped\n",
    "\n",
    "print(\"✅ Remaining columns in the DataFrame:\")\n",
    "print(df.columns.tolist())"
   ]
  },
  {
   "cell_type": "markdown",
   "id": "d538087f-ba46-4322-9300-b4fd7c046262",
   "metadata": {},
   "source": [
    "### 🧹 Filter Unrealistic Price & Odometer Readings"
   ]
  },
  {
   "cell_type": "code",
   "execution_count": 11,
   "id": "a4f519c4-370c-4eee-b2ad-2eb68f847cfb",
   "metadata": {},
   "outputs": [],
   "source": [
    "# Filter out vehicle listings with unrealistic prices.\n",
    "# Prices below $500 or above $120,000 are likely data entry errors or rare edge cases.\n",
    "\n",
    "df = df[(df['price'] >= 500) & (df['price'] <= 120000)]\n",
    "\n",
    "# Remove vehicle listings with unrealistic (used car) odometer readings of 0 or over 300,000 miles.\n",
    "# Odometer values of 0 likely represent missing data (since this is about used cars), and over 300,000 miles are extremely rare.\n",
    "\n",
    "df = df[(df['odometer'] > 0) & (df['odometer'] < 300000)]"
   ]
  },
  {
   "cell_type": "code",
   "execution_count": 12,
   "id": "8e8d0797-046d-4bbc-96dd-e1b6d57b42ca",
   "metadata": {
    "scrolled": true
   },
   "outputs": [
    {
     "data": {
      "text/html": [
       "<div>\n",
       "<style scoped>\n",
       "    .dataframe tbody tr th:only-of-type {\n",
       "        vertical-align: middle;\n",
       "    }\n",
       "\n",
       "    .dataframe tbody tr th {\n",
       "        vertical-align: top;\n",
       "    }\n",
       "\n",
       "    .dataframe thead th {\n",
       "        text-align: right;\n",
       "    }\n",
       "</style>\n",
       "<table border=\"1\" class=\"dataframe\">\n",
       "  <thead>\n",
       "    <tr style=\"text-align: right;\">\n",
       "      <th></th>\n",
       "      <th>id</th>\n",
       "      <th>price</th>\n",
       "      <th>year</th>\n",
       "      <th>odometer</th>\n",
       "      <th>lat</th>\n",
       "      <th>long</th>\n",
       "    </tr>\n",
       "  </thead>\n",
       "  <tbody>\n",
       "    <tr>\n",
       "      <th>count</th>\n",
       "      <td>3.782430e+05</td>\n",
       "      <td>378243.000000</td>\n",
       "      <td>377161.000000</td>\n",
       "      <td>378243.000000</td>\n",
       "      <td>374895.000000</td>\n",
       "      <td>374895.000000</td>\n",
       "    </tr>\n",
       "    <tr>\n",
       "      <th>mean</th>\n",
       "      <td>7.311470e+09</td>\n",
       "      <td>19261.528972</td>\n",
       "      <td>2011.071548</td>\n",
       "      <td>91917.520419</td>\n",
       "      <td>38.523599</td>\n",
       "      <td>-94.255949</td>\n",
       "    </tr>\n",
       "    <tr>\n",
       "      <th>std</th>\n",
       "      <td>4.390466e+06</td>\n",
       "      <td>14545.539541</td>\n",
       "      <td>9.434529</td>\n",
       "      <td>61678.501355</td>\n",
       "      <td>5.845846</td>\n",
       "      <td>18.083272</td>\n",
       "    </tr>\n",
       "    <tr>\n",
       "      <th>min</th>\n",
       "      <td>7.301583e+09</td>\n",
       "      <td>500.000000</td>\n",
       "      <td>1900.000000</td>\n",
       "      <td>1.000000</td>\n",
       "      <td>-81.838232</td>\n",
       "      <td>-159.719900</td>\n",
       "    </tr>\n",
       "    <tr>\n",
       "      <th>25%</th>\n",
       "      <td>7.308073e+09</td>\n",
       "      <td>7900.000000</td>\n",
       "      <td>2008.000000</td>\n",
       "      <td>38335.000000</td>\n",
       "      <td>34.720000</td>\n",
       "      <td>-110.890427</td>\n",
       "    </tr>\n",
       "    <tr>\n",
       "      <th>50%</th>\n",
       "      <td>7.312575e+09</td>\n",
       "      <td>15987.000000</td>\n",
       "      <td>2013.000000</td>\n",
       "      <td>87155.000000</td>\n",
       "      <td>39.254962</td>\n",
       "      <td>-87.971900</td>\n",
       "    </tr>\n",
       "    <tr>\n",
       "      <th>75%</th>\n",
       "      <td>7.315245e+09</td>\n",
       "      <td>27990.000000</td>\n",
       "      <td>2017.000000</td>\n",
       "      <td>135000.000000</td>\n",
       "      <td>42.364188</td>\n",
       "      <td>-80.820900</td>\n",
       "    </tr>\n",
       "    <tr>\n",
       "      <th>max</th>\n",
       "      <td>7.317101e+09</td>\n",
       "      <td>120000.000000</td>\n",
       "      <td>2022.000000</td>\n",
       "      <td>299999.000000</td>\n",
       "      <td>82.390818</td>\n",
       "      <td>173.885502</td>\n",
       "    </tr>\n",
       "  </tbody>\n",
       "</table>\n",
       "</div>"
      ],
      "text/plain": [
       "                 id          price           year       odometer  \\\n",
       "count  3.782430e+05  378243.000000  377161.000000  378243.000000   \n",
       "mean   7.311470e+09   19261.528972    2011.071548   91917.520419   \n",
       "std    4.390466e+06   14545.539541       9.434529   61678.501355   \n",
       "min    7.301583e+09     500.000000    1900.000000       1.000000   \n",
       "25%    7.308073e+09    7900.000000    2008.000000   38335.000000   \n",
       "50%    7.312575e+09   15987.000000    2013.000000   87155.000000   \n",
       "75%    7.315245e+09   27990.000000    2017.000000  135000.000000   \n",
       "max    7.317101e+09  120000.000000    2022.000000  299999.000000   \n",
       "\n",
       "                 lat           long  \n",
       "count  374895.000000  374895.000000  \n",
       "mean       38.523599     -94.255949  \n",
       "std         5.845846      18.083272  \n",
       "min       -81.838232    -159.719900  \n",
       "25%        34.720000    -110.890427  \n",
       "50%        39.254962     -87.971900  \n",
       "75%        42.364188     -80.820900  \n",
       "max        82.390818     173.885502  "
      ]
     },
     "execution_count": 12,
     "metadata": {},
     "output_type": "execute_result"
    }
   ],
   "source": [
    "# Confirm dataset statistics after filtering to ensure the changes were applied correctly and data looks reasonable.\n",
    "\n",
    "df.describe()"
   ]
  },
  {
   "cell_type": "markdown",
   "id": "e13be80d-b648-415f-9fc7-a6f91383f165",
   "metadata": {},
   "source": [
    "### 🧾 Final Cleaning: Drop Rows with & filling Missing Info"
   ]
  },
  {
   "cell_type": "code",
   "execution_count": 13,
   "id": "b0634b74-69e5-4410-8f7b-21dd25e4674d",
   "metadata": {},
   "outputs": [],
   "source": [
    "# Drop rows with missing values in key columns needed for analysis\n",
    "\n",
    "df = df.dropna(subset=[\n",
    "    \n",
    "    # 'year' is essential for calculating vehicle age, which directly affects price and depreciation.\n",
    "    'year',\n",
    "    \n",
    "    # 'manufacturer' is required to analyze brand-level trends and pricing.\n",
    "    'manufacturer',\n",
    "    \n",
    "    # 'model' provides necessary detail within each brand for comparing specific vehicles.\n",
    "    'model',\n",
    "    \n",
    "    # 'fuel' type impacts price significantly (e.g., electric vs gas vs diesel).\n",
    "    'fuel',\n",
    "    \n",
    "    # 'title_status' affects vehicle value and trustworthiness — a salvaged title lowers price.\n",
    "    'title_status',\n",
    "    \n",
    "    # 'transmission' (auto/manual) influences price and is important for buyer preference analysis.\n",
    "    'transmission',\n",
    "    \n",
    "    # 'lat' and 'long' allow for location-based analysis, regional trends, and mapping.\n",
    "    'lat', 'long'\n",
    "\n",
    "])"
   ]
  },
  {
   "cell_type": "code",
   "execution_count": 14,
   "id": "d9abc8ec-23fe-41db-9c8d-6269db4fca42",
   "metadata": {},
   "outputs": [],
   "source": [
    "# Fill missing descriptions with a placeholder string\n",
    "\n",
    "df['description'] = df['description'].fillna('No description provided')"
   ]
  },
  {
   "cell_type": "markdown",
   "id": "a79abda1-9fb9-4689-ac48-40bd89328215",
   "metadata": {},
   "source": [
    "### ✅ Confirm Final Dataset Structure"
   ]
  },
  {
   "cell_type": "code",
   "execution_count": 15,
   "id": "bce517fb-9e46-4003-a0fa-eb886048e786",
   "metadata": {
    "scrolled": true
   },
   "outputs": [
    {
     "name": "stdout",
     "output_type": "stream",
     "text": [
      "✅ Final dataset shape: (347305, 16)\n",
      "\n",
      "✅ Missing values per column (should all be 0, except for 'type'):\n",
      "id                  0\n",
      "region              0\n",
      "price               0\n",
      "year                0\n",
      "manufacturer        0\n",
      "model               0\n",
      "fuel                0\n",
      "odometer            0\n",
      "title_status        0\n",
      "transmission        0\n",
      "type            73849\n",
      "description         0\n",
      "state               0\n",
      "lat                 0\n",
      "long                0\n",
      "posting_date        0\n",
      "dtype: int64\n"
     ]
    }
   ],
   "source": [
    "# Final confirmation after cleaning\n",
    "\n",
    "# Check the final shape of the dataset\n",
    "\n",
    "print(\"✅ Final dataset shape:\", df.shape)\n",
    "\n",
    "# Confirm that there are no missing values remaining\n",
    "\n",
    "print(\"\\n✅ Missing values per column (should all be 0, except for 'type'):\")\n",
    "print(df.isnull().sum())\n"
   ]
  },
  {
   "cell_type": "markdown",
   "id": "babb1e1f-338d-46e3-a87a-0dda60573657",
   "metadata": {},
   "source": [
    "## Export to CSV in Data Files folder"
   ]
  },
  {
   "cell_type": "code",
   "execution_count": 16,
   "id": "db5c7c72-63a6-4ad8-a353-5d8679e3aaef",
   "metadata": {},
   "outputs": [],
   "source": [
    "df.to_csv(\"../Data Files/vehicles_cleaned.csv\", index=False)"
   ]
  },
  {
   "cell_type": "code",
   "execution_count": null,
   "id": "799c8da8-45cf-4f45-86c1-db1a0e27f032",
   "metadata": {},
   "outputs": [],
   "source": []
  }
 ],
 "metadata": {
  "kernelspec": {
   "display_name": "Python [conda env:base] *",
   "language": "python",
   "name": "conda-base-py"
  },
  "language_info": {
   "codemirror_mode": {
    "name": "ipython",
    "version": 3
   },
   "file_extension": ".py",
   "mimetype": "text/x-python",
   "name": "python",
   "nbconvert_exporter": "python",
   "pygments_lexer": "ipython3",
   "version": "3.12.7"
  }
 },
 "nbformat": 4,
 "nbformat_minor": 5
}
